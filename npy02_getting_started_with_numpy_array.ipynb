{
  "nbformat": 4,
  "nbformat_minor": 0,
  "metadata": {
    "colab": {
      "name": "npy02-getting-started-with--numpy-array.ipynb",
      "provenance": [],
      "authorship_tag": "ABX9TyP7qFc9ABGhRRN94lnLmCZS"
    },
    "kernelspec": {
      "name": "python3",
      "display_name": "Python 3"
    }
  },
  "cells": [
    {
      "cell_type": "markdown",
      "metadata": {
        "id": "wm-M76-zeIxn"
      },
      "source": [
        "### *Importing NumPy package*"
      ]
    },
    {
      "cell_type": "code",
      "metadata": {
        "colab": {
          "base_uri": "https://localhost:8080/"
        },
        "id": "jIjh-eC0eG4G",
        "outputId": "def61232-d54e-4a7a-8f07-4dacdb107765"
      },
      "source": [
        "import numpy as np\r\n",
        "print(\"NumPy Version: \" + np.__version__)"
      ],
      "execution_count": 63,
      "outputs": [
        {
          "output_type": "stream",
          "text": [
            "NumPy Version: 1.19.5\n"
          ],
          "name": "stdout"
        }
      ]
    },
    {
      "cell_type": "markdown",
      "metadata": {
        "id": "2qIDP0eaeTs3"
      },
      "source": [
        "### Creating 1-dimensional Array"
      ]
    },
    {
      "cell_type": "code",
      "metadata": {
        "colab": {
          "base_uri": "https://localhost:8080/"
        },
        "id": "4Jm6mGouTmUd",
        "outputId": "5f197cea-2da3-4842-90a6-ad9f925a02d3"
      },
      "source": [
        "ar1 = np.array([5,7,2])\r\n",
        "print(ar1)"
      ],
      "execution_count": 64,
      "outputs": [
        {
          "output_type": "stream",
          "text": [
            "[5 7 2]\n"
          ],
          "name": "stdout"
        }
      ]
    },
    {
      "cell_type": "markdown",
      "metadata": {
        "id": "wpWqlCiYem3G"
      },
      "source": [
        "### Creating 2-dimensional Array"
      ]
    },
    {
      "cell_type": "code",
      "metadata": {
        "colab": {
          "base_uri": "https://localhost:8080/"
        },
        "id": "dUWkuyFg2fCV",
        "outputId": "ac1314c2-41db-49c9-e712-82b16c34bb39"
      },
      "source": [
        "ar2 = np.array([[5,7,2],\r\n",
        "                [2,3,9]])\r\n",
        "print(ar2)"
      ],
      "execution_count": 65,
      "outputs": [
        {
          "output_type": "stream",
          "text": [
            "[[5 7 2]\n",
            " [2 3 9]]\n"
          ],
          "name": "stdout"
        }
      ]
    },
    {
      "cell_type": "markdown",
      "metadata": {
        "id": "TIrC2JzEewS3"
      },
      "source": [
        "### Creating 3-dimensional Array"
      ]
    },
    {
      "cell_type": "code",
      "metadata": {
        "colab": {
          "base_uri": "https://localhost:8080/"
        },
        "id": "ogbeAegS3AC8",
        "outputId": "46f70e99-c0d2-4fbf-cbd0-45752f17a584"
      },
      "source": [
        "ar3 = np.array([[[5,7,2],\r\n",
        "                [2,3,9]],\r\n",
        "               [[3,5,9],\r\n",
        "                [6,2,7]]])\r\n",
        "print(ar3)"
      ],
      "execution_count": 66,
      "outputs": [
        {
          "output_type": "stream",
          "text": [
            "[[[5 7 2]\n",
            "  [2 3 9]]\n",
            "\n",
            " [[3 5 9]\n",
            "  [6 2 7]]]\n"
          ],
          "name": "stdout"
        }
      ]
    },
    {
      "cell_type": "markdown",
      "metadata": {
        "id": "Uopd5nH2e-JQ"
      },
      "source": [
        "## Avoiding Conflicts with Global Namespace"
      ]
    },
    {
      "cell_type": "code",
      "metadata": {
        "colab": {
          "base_uri": "https://localhost:8080/"
        },
        "id": "uW-Cxf6Pa6XZ",
        "outputId": "1afa2abc-c5d4-4a36-c6b1-ebec44cdf17c"
      },
      "source": [
        "np.max(ar3)"
      ],
      "execution_count": 67,
      "outputs": [
        {
          "output_type": "execute_result",
          "data": {
            "text/plain": [
              "9"
            ]
          },
          "metadata": {
            "tags": []
          },
          "execution_count": 67
        }
      ]
    },
    {
      "cell_type": "code",
      "metadata": {
        "id": "JE1O5qm83My1",
        "colab": {
          "base_uri": "https://localhost:8080/"
        },
        "outputId": "9e30d204-4fa6-4b88-d32c-891301eb8367"
      },
      "source": [
        "max([2,5,4])"
      ],
      "execution_count": 68,
      "outputs": [
        {
          "output_type": "execute_result",
          "data": {
            "text/plain": [
              "5"
            ]
          },
          "metadata": {
            "tags": []
          },
          "execution_count": 68
        }
      ]
    }
  ]
}
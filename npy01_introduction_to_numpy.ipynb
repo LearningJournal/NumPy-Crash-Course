{
  "nbformat": 4,
  "nbformat_minor": 0,
  "metadata": {
    "colab": {
      "name": "npy01-introduction-to-numpy.ipynb",
      "provenance": [],
      "authorship_tag": "ABX9TyMO2CV72Ua4UsZTn5fcL3sy",
      "include_colab_link": true
    },
    "kernelspec": {
      "name": "python3",
      "display_name": "Python 3"
    }
  },
  "cells": [
    {
      "cell_type": "markdown",
      "metadata": {
        "id": "view-in-github",
        "colab_type": "text"
      },
      "source": [
        "<a href=\"https://colab.research.google.com/github/LearningJournal/NumPy-Crash-Course/blob/master/npy01_introduction_to_numpy.ipynb\" target=\"_parent\"><img src=\"https://colab.research.google.com/assets/colab-badge.svg\" alt=\"Open In Colab\"/></a>"
      ]
    },
    {
      "cell_type": "markdown",
      "metadata": {
        "id": "Nu1cRo1YyQcC"
      },
      "source": [
        "# NumPy Performace Test"
      ]
    },
    {
      "cell_type": "code",
      "metadata": {
        "colab": {
          "base_uri": "https://localhost:8080/"
        },
        "id": "5A5rPHo3ybNC",
        "outputId": "37c1cc0b-f009-4dd8-a7fd-155c3dc0580d"
      },
      "source": [
        "import numpy as np\r\n",
        "import time as time\r\n",
        "\r\n",
        "def dot(a,b):\r\n",
        "  result = 0\r\n",
        "  for i,j in zip(a,b):\r\n",
        "    result += i*j\r\n",
        "  return result\r\n",
        "\r\n",
        "a = np.random.rand(1000000)\r\n",
        "b = np.random.rand(1000000)\r\n",
        "\r\n",
        "dot_start = time.process_time()\r\n",
        "x = dot(a,b)\r\n",
        "dot_end = time.process_time()\r\n",
        "\r\n",
        "dot_time = dot_end - dot_start\r\n",
        "print(\"Time taken by loop: \")\r\n",
        "print(dot_time)\r\n",
        "\r\n",
        "np_start = time.process_time()\r\n",
        "x = np.dot(a,b)\r\n",
        "np_end = time.process_time()\r\n",
        "\r\n",
        "np_time = np_end - np_start\r\n",
        "print(\"Time taken by NumPy: \")\r\n",
        "print(np_time)\r\n",
        "\r\n",
        "print(\"Loop Time / NumPy Time:\")\r\n",
        "print(dot_time/np_time)"
      ],
      "execution_count": null,
      "outputs": [
        {
          "output_type": "stream",
          "text": [
            "Time taken by loop: \n",
            "0.40613376499999987\n",
            "Time taken by NumPy: \n",
            "0.0028680429999998758\n",
            "Loop Time / NumPy Time:\n",
            "141.60658156102173\n"
          ],
          "name": "stdout"
        }
      ]
    },
    {
      "cell_type": "markdown",
      "metadata": {
        "id": "5fX2c431yxm0"
      },
      "source": [
        "# NumPy Memory Test"
      ]
    },
    {
      "cell_type": "code",
      "metadata": {
        "colab": {
          "base_uri": "https://localhost:8080/"
        },
        "id": "0o6xU5K4y1i0",
        "outputId": "628863a1-fe9c-493e-ee4e-d403e3300a76"
      },
      "source": [
        "pip install memory_profiler"
      ],
      "execution_count": null,
      "outputs": [
        {
          "output_type": "stream",
          "text": [
            "Collecting memory_profiler\n",
            "  Downloading https://files.pythonhosted.org/packages/8f/fd/d92b3295657f8837e0177e7b48b32d6651436f0293af42b76d134c3bb489/memory_profiler-0.58.0.tar.gz\n",
            "Requirement already satisfied: psutil in /usr/local/lib/python3.7/dist-packages (from memory_profiler) (5.4.8)\n",
            "Building wheels for collected packages: memory-profiler\n",
            "  Building wheel for memory-profiler (setup.py) ... \u001b[?25l\u001b[?25hdone\n",
            "  Created wheel for memory-profiler: filename=memory_profiler-0.58.0-cp37-none-any.whl size=30180 sha256=803e9f40ff3bdd7624e149e230c7572c45d4b0f38f80fe42f0378d2eef3140d4\n",
            "  Stored in directory: /root/.cache/pip/wheels/02/e4/0b/aaab481fc5dd2a4ea59e78bc7231bb6aae7635ca7ee79f8ae5\n",
            "Successfully built memory-profiler\n",
            "Installing collected packages: memory-profiler\n",
            "Successfully installed memory-profiler-0.58.0\n"
          ],
          "name": "stdout"
        }
      ]
    },
    {
      "cell_type": "code",
      "metadata": {
        "id": "hVw1N6D4y4KC"
      },
      "source": [
        "%load_ext memory_profiler"
      ],
      "execution_count": null,
      "outputs": []
    },
    {
      "cell_type": "code",
      "metadata": {
        "colab": {
          "base_uri": "https://localhost:8080/"
        },
        "id": "oKljLx9yy6Ma",
        "outputId": "764a5b24-9ad0-4164-dcec-529a4d182b51"
      },
      "source": [
        "%memit list(range(100000000))"
      ],
      "execution_count": null,
      "outputs": [
        {
          "output_type": "stream",
          "text": [
            "peak memory: 3927.74 MiB, increment: 3797.24 MiB\n"
          ],
          "name": "stdout"
        }
      ]
    },
    {
      "cell_type": "code",
      "metadata": {
        "colab": {
          "base_uri": "https://localhost:8080/"
        },
        "id": "T-G0g7P4y8Xb",
        "outputId": "618b8bb1-d7d2-412b-c893-e9ee2a71665d"
      },
      "source": [
        "%memit np.arange(100000000)"
      ],
      "execution_count": null,
      "outputs": [
        {
          "output_type": "stream",
          "text": [
            "peak memory: 894.58 MiB, increment: 0.00 MiB\n"
          ],
          "name": "stdout"
        }
      ]
    }
  ]
}